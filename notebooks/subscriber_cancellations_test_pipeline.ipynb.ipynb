{
  "nbformat": 4,
  "nbformat_minor": 0,
  "metadata": {
    "colab": {
      "provenance": []
    },
    "kernelspec": {
      "name": "python3",
      "display_name": "Python 3"
    },
    "language_info": {
      "name": "python"
    }
  },
  "cells": [
    {
      "cell_type": "code",
      "execution_count": 4,
      "metadata": {
        "colab": {
          "base_uri": "https://localhost:8080/"
        },
        "id": "98ZF4oHLnTvN",
        "outputId": "864f6db4-d2b4-4fd9-e024-abf37c19ee38"
      },
      "outputs": [
        {
          "output_type": "stream",
          "name": "stderr",
          "text": [
            "....\n",
            "----------------------------------------------------------------------\n",
            "Ran 4 tests in 0.036s\n",
            "\n",
            "OK\n"
          ]
        },
        {
          "output_type": "stream",
          "name": "stdout",
          "text": [
            "✅ All tests passed!\n"
          ]
        }
      ],
      "source": [
        "import pandas as pd\n",
        "import logging\n",
        "import os\n",
        "from datetime import datetime\n",
        "import unittest\n",
        "\n",
        "# === CONFIGURATION ===\n",
        "DATA_FILE = \"clean_master_dataset.csv\"\n",
        "LOG_FILE = \"pipeline_log.log\"\n",
        "CHANGELOG_FILE = \"changelog.txt\"\n",
        "EXPECTED_COLUMNS = [\n",
        "    \"uuid\", \"name\", \"dob\", \"sex\", \"contact_info\", \"job_id\",\n",
        "    \"num_course_taken\", \"current_career_path_id\", \"time_spent_hrs\",\n",
        "    \"mailing_address\", \"career_path_id\", \"career_path_name\",\n",
        "    \"hours_to_complete\", \"job_category\", \"avg_salary\"\n",
        "]\n",
        "\n",
        "# === LOGGING SETUP ===\n",
        "logging.basicConfig(filename=LOG_FILE, level=logging.INFO,\n",
        "                    format=\"%(asctime)s - %(levelname)s - %(message)s\")\n",
        "logging.info(\"Pipeline tests started\")\n",
        "\n",
        "# === UNIT TESTS ===\n",
        "class TestPipeline(unittest.TestCase):\n",
        "\n",
        "    @classmethod\n",
        "    def setUpClass(cls):\n",
        "        cls.df = pd.read_csv(DATA_FILE)\n",
        "\n",
        "    def test_schema(self):\n",
        "        \"\"\"Check if the dataset has the expected columns\"\"\"\n",
        "        self.assertListEqual(list(self.df.columns), EXPECTED_COLUMNS)\n",
        "\n",
        "    def test_not_empty(self):\n",
        "        \"\"\"Check if the dataset is not empty\"\"\"\n",
        "        self.assertGreater(len(self.df), 0)\n",
        "\n",
        "    def test_join_integrity(self):\n",
        "        \"\"\"Check if joins were successful (no null IDs where they shouldn't be)\"\"\"\n",
        "        self.assertFalse(self.df[\"uuid\"].isnull().any())\n",
        "        self.assertFalse(self.df[\"job_id\"].isnull().any())\n",
        "\n",
        "    def test_new_data(self):\n",
        "        \"\"\"Check if there's at least some recent data (UUID > 0 as proxy)\"\"\"\n",
        "        self.assertTrue((self.df[\"uuid\"] > 0).all())\n",
        "\n",
        "# === RUN TESTS ===\n",
        "if __name__ == \"__main__\":\n",
        "    result = unittest.TextTestRunner().run(unittest.TestLoader().loadTestsFromTestCase(TestPipeline))\n",
        "\n",
        "    # Write to changelog\n",
        "    with open(CHANGELOG_FILE, \"a\") as f:\n",
        "        f.write(f\"\\n--- {datetime.now()} ---\\n\")\n",
        "        f.write(f\"Rows: {len(pd.read_csv(DATA_FILE))}\\n\")\n",
        "        f.write(f\"Tests run: {result.testsRun}\\n\")\n",
        "        f.write(f\"Failures: {len(result.failures)}\\n\")\n",
        "        f.write(f\"Errors: {len(result.errors)}\\n\")\n",
        "\n",
        "    if result.wasSuccessful():\n",
        "        logging.info(\"All tests passed successfully\")\n",
        "        print(\"✅ All tests passed!\")\n",
        "    else:\n",
        "        logging.error(\"Some tests failed\")\n",
        "        print(\"❌ Some tests failed. Check the log for details.\")\n"
      ]
    }
  ]
}